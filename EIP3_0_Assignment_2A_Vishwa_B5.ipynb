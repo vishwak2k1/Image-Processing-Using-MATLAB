{
  "nbformat": 4,
  "nbformat_minor": 0,
  "metadata": {
    "colab": {
      "name": "EIP3.0 Assignment 2A Vishwa B5.ipynb",
      "version": "0.3.2",
      "provenance": [],
      "collapsed_sections": [],
      "include_colab_link": true
    },
    "kernelspec": {
      "name": "python3",
      "display_name": "Python 3"
    }
  },
  "cells": [
    {
      "cell_type": "markdown",
      "metadata": {
        "id": "view-in-github",
        "colab_type": "text"
      },
      "source": [
        "<a href=\"https://colab.research.google.com/github/vishwak2k1/Image-Processing-Using-MATLAB/blob/master/EIP3_0_Assignment_2A_Vishwa_B5.ipynb\" target=\"_parent\"><img src=\"https://colab.research.google.com/assets/colab-badge.svg\" alt=\"Open In Colab\"/></a>"
      ]
    },
    {
      "metadata": {
        "id": "Z8as4mYe3VUi",
        "colab_type": "code",
        "colab": {}
      },
      "cell_type": "code",
      "source": [
        ""
      ],
      "execution_count": 0,
      "outputs": []
    },
    {
      "metadata": {
        "id": "ALx4fivYEOv4",
        "colab_type": "text"
      },
      "cell_type": "markdown",
      "source": [
        "#  \"2A assignment\""
      ]
    },
    {
      "metadata": {
        "id": "yk4V66U8DZRJ",
        "colab_type": "text"
      },
      "cell_type": "markdown",
      "source": [
        "### Viswanath K\n",
        "### vishwak2k1@gmail.com\n",
        "### EIP 3.0\n",
        "### Batch 5"
      ]
    },
    {
      "metadata": {
        "id": "La7yWPlT4ER5",
        "colab_type": "text"
      },
      "cell_type": "markdown",
      "source": [
        "# Backpropagation Step by Step"
      ]
    },
    {
      "metadata": {
        "id": "H_MTXFWN30Rq",
        "colab_type": "text"
      },
      "cell_type": "markdown",
      "source": [
        "![alt text](http://hmkcode.github.io/images/ai/backpropagation.png)"
      ]
    },
    {
      "metadata": {
        "id": "ri9Q33rm36MZ",
        "colab_type": "code",
        "colab": {}
      },
      "cell_type": "code",
      "source": [
        ""
      ],
      "execution_count": 0,
      "outputs": []
    },
    {
      "metadata": {
        "id": "vY5DZQ8Z4yjg",
        "colab_type": "text"
      },
      "cell_type": "markdown",
      "source": [
        "## Overview"
      ]
    },
    {
      "metadata": {
        "id": "F-VXzW1h4kuG",
        "colab_type": "text"
      },
      "cell_type": "markdown",
      "source": [
        "If you are building your own neural network, you will definitely need to understand how to train it. Backpropagation is a commonly used technique for training neural network. There are many resources explaining the technique, but this post will explain backpropagation with concrete example in a very detailed colorful steps."
      ]
    },
    {
      "metadata": {
        "id": "ikeBcKmY4uJA",
        "colab_type": "text"
      },
      "cell_type": "markdown",
      "source": [
        "In this post, we will build a neural network with three layers:\n",
        "\n",
        "* **Input** layer with two inputs neurons\n",
        "* One **hidden** layer with two neurons\n",
        "* **Output** layer with a single neuron\n",
        "\n",
        "![alt text](http://hmkcode.github.io/images/ai/nn1.png)"
      ]
    },
    {
      "metadata": {
        "id": "F7vlSVuq5iuJ",
        "colab_type": "text"
      },
      "cell_type": "markdown",
      "source": [
        "## Weights, weights, weights"
      ]
    },
    {
      "metadata": {
        "id": "3Hd9L9yH6rL3",
        "colab_type": "text"
      },
      "cell_type": "markdown",
      "source": [
        "Neural network training is about finding weights that minimize prediction error. We usually start our training with a set of randomly generated weights.Then, backpropagation is used to update the weights in an attempt to correctly map arbitrary inputs to outputs.\n",
        "\n",
        "Our initial weights will be as following: w1 = 0.11, w2 = 0.21, w3 = 0.12, w4 = 0.08, w5 = 0.14 and w6 = 0.15"
      ]
    },
    {
      "metadata": {
        "id": "AHgRwrUh5iwM",
        "colab_type": "text"
      },
      "cell_type": "markdown",
      "source": [
        "## Dataset"
      ]
    },
    {
      "metadata": {
        "id": "8E6FdOcf7e9O",
        "colab_type": "text"
      },
      "cell_type": "markdown",
      "source": [
        "Our dataset has one sample with two inputs and one output.\n",
        "\n",
        "![alt text](http://hmkcode.github.io/images/ai/bp_dataset.png)\n",
        "\n",
        "Our single sample is as following inputs=[2, 3] and output=[1].\n",
        "![alt text](http://hmkcode.github.io/images/ai/bp_dataset.png)\n",
        "\n",
        "\n"
      ]
    },
    {
      "metadata": {
        "id": "hO2Ih5bE5_iH",
        "colab_type": "text"
      },
      "cell_type": "markdown",
      "source": [
        "## Forward Pass"
      ]
    },
    {
      "metadata": {
        "id": "e2nPaPrE-AZ1",
        "colab_type": "text"
      },
      "cell_type": "markdown",
      "source": [
        "We will use given weights and inputs to predict the output. Inputs are multiplied by weights; the results are then passed forward to next layer.\n",
        "![alt text](http://hmkcode.github.io/images/ai/bp_forward.png)"
      ]
    },
    {
      "metadata": {
        "id": "ekclm2176Au4",
        "colab_type": "text"
      },
      "cell_type": "markdown",
      "source": [
        "## Calculating Error"
      ]
    },
    {
      "metadata": {
        "id": "rBCJ4qp--Pgt",
        "colab_type": "text"
      },
      "cell_type": "markdown",
      "source": [
        "Now, it’s time to find out how our network performed by calculating the difference between the actual output and predicted one. It’s clear that our network output, or **prediction**, is not even close to **actual output**. We can calculate the difference or the error as following.\n",
        "![alt text](http://hmkcode.github.io/images/ai/bp_error.png)"
      ]
    },
    {
      "metadata": {
        "id": "mT1-dhpV6BXJ",
        "colab_type": "text"
      },
      "cell_type": "markdown",
      "source": [
        "## Reducing Error"
      ]
    },
    {
      "metadata": {
        "id": "Xu0TKQFZ-am_",
        "colab_type": "text"
      },
      "cell_type": "markdown",
      "source": [
        "Our main goal of the training is to reduce the **error** or the difference between **prediction** and **actual output**. Since **actual output** is constant, “not changing”, the only way to reduce the error is to change prediction value. The question now is, how to change **prediction**  value ?\n",
        "\n",
        "By decomposing **prediction** into its basic elements we can find that **weights** are the variable elements affecting **prediction** value. In other words, in order to change **prediction** value, we need to change **weights** values.\n",
        "![alt text](http://hmkcode.github.io/images/ai/bp_prediction_elements.png)\n",
        "\n"
      ]
    },
    {
      "metadata": {
        "id": "53vzsgRY-pg8",
        "colab_type": "text"
      },
      "cell_type": "markdown",
      "source": [
        "\n",
        "\n",
        "\n",
        "\n",
        "The question now is **how to change\\update the weights value so that the error is reduced?**\n",
        "The answer is **Backpropagation**!\n",
        "\n",
        "\n"
      ]
    },
    {
      "metadata": {
        "id": "7C_4jB1D6CDB",
        "colab_type": "text"
      },
      "cell_type": "markdown",
      "source": [
        "## Backpropagation"
      ]
    },
    {
      "metadata": {
        "id": "seilQZi6-2kc",
        "colab_type": "text"
      },
      "cell_type": "markdown",
      "source": [
        "**Backpropagation**, short for “backward propagation of errors”, is a mechanism used to update the **weights** using [gradient descent](https://en.wikipedia.org/wiki/Gradient_descent). It calculates the gradient of the error function with respect to the neural network’s weights. The calculation proceeds backwards through the network."
      ]
    },
    {
      "metadata": {
        "id": "8SmOR-nr-7ms",
        "colab_type": "text"
      },
      "cell_type": "markdown",
      "source": [
        "\n",
        "\n",
        "\n",
        "**Gradient descent** is an iterative optimization algorithm for finding the minimum of a function; in our case we want to minimize th error function. To find a local minimum of a function using gradient descent, one takes steps proportional to the negative of the gradient of the function at the current point.\n",
        "\n",
        "\n"
      ]
    },
    {
      "metadata": {
        "id": "b_wxvWnI_Lq0",
        "colab_type": "text"
      },
      "cell_type": "markdown",
      "source": [
        "![alt text](http://hmkcode.github.io/images/ai/bp_update_formula.png)"
      ]
    },
    {
      "metadata": {
        "id": "MoSpBEB-_S4M",
        "colab_type": "text"
      },
      "cell_type": "markdown",
      "source": [
        "For example, to update w6, we take the current w6 and subtract the partial derivative of **error** function with respect to w6. Optionally, we multiply the derivative of the **error** function by a selected number to make sure that the new updated **weight** is minimizing the error function; this number is called **learning rate**.\n",
        "![alt text](http://hmkcode.github.io/images/ai/bp_w6_update.png)\n",
        "The derivation of the error function is evaluated by applying the chain rule as following\n",
        "![alt text](![alt text](http://hmkcode.github.io/images/ai/bp_error_function_partial_derivative_w6.png))\n",
        "So to update w6 we can apply the following formula\n",
        "![alt text](http://hmkcode.github.io/images/ai/bp_w6_update_closed_form.png)\n",
        "Similarly, we can derive the update formula for w5 and any other weights existing between the output and the hidden layer.\n",
        "\n",
        "![alt text](http://hmkcode.github.io/images/ai/bp_w5_update_closed_form.png)\n",
        "However, when moving backward to update w1, w2, w3 and w4 existing between input and hidden layer, the partial derivative for the error function with respect to w1, for example, will be as following.\n",
        "\n",
        "![alt text](http://hmkcode.github.io/images/ai/bp_error_function_partial_derivative_w1.png)\n",
        "We can find the update formula for the remaining weights w2, w3 and w4 in the same way.\n",
        "\n",
        "In summary, the update formulas for all weights will be as following:\n",
        "![alt text](http://hmkcode.github.io/images/ai/bp_update_all_weights.png)\n",
        "We can rewrite the update formulas in matrices as following\n",
        "![alt text](http://hmkcode.github.io/images/ai/bp_update_all_weights_matrix.png)\n",
        "\n"
      ]
    },
    {
      "metadata": {
        "id": "LYkHqor46Cko",
        "colab_type": "text"
      },
      "cell_type": "markdown",
      "source": [
        "## Backward Pass"
      ]
    },
    {
      "metadata": {
        "id": "mB1OtIguAQFL",
        "colab_type": "text"
      },
      "cell_type": "markdown",
      "source": [
        "Using derived formulas we can find the new **weights**.\n",
        "\n",
        "**Learning rate**: is a hyperparameter which means that we need to manually guess its value.\n",
        "\n",
        "![alt text](http://hmkcode.github.io/images/ai/bp_new_weights.png)\n",
        "Now, using the new **weights** we will repeat the forward passed\n",
        "![alt text](http://hmkcode.github.io/images/ai/bp_forward_2.png)\n",
        "We can notice that the **prediction** 0.26 is a little bit closer to **actual output** than the previously predicted one 0.191. We can repeat the same process of backward and forward pass until **error** is close or equal to zero.\n",
        "\n"
      ]
    },
    {
      "metadata": {
        "id": "h5Di7gSN4mGu",
        "colab_type": "code",
        "colab": {}
      },
      "cell_type": "code",
      "source": [
        ""
      ],
      "execution_count": 0,
      "outputs": []
    },
    {
      "metadata": {
        "id": "UWSoVJ9zEf9f",
        "colab_type": "text"
      },
      "cell_type": "markdown",
      "source": [
        "# \"Assignment 2B\""
      ]
    },
    {
      "metadata": {
        "id": "Hryyp5tA67t-",
        "colab_type": "code",
        "colab": {}
      },
      "cell_type": "code",
      "source": [
        ""
      ],
      "execution_count": 0,
      "outputs": []
    }
  ]
}